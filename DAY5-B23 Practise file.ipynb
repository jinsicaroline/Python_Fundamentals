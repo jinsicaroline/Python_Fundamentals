{
 "cells": [
  {
   "cell_type": "code",
   "execution_count": null,
   "metadata": {},
   "outputs": [],
   "source": [
    "Introduction to looping statements:\n",
    "    "
   ]
  },
  {
   "cell_type": "code",
   "execution_count": null,
   "metadata": {},
   "outputs": [],
   "source": [
    "working with for loops:"
   ]
  },
  {
   "cell_type": "code",
   "execution_count": 1,
   "metadata": {},
   "outputs": [
    {
     "name": "stdout",
     "output_type": "stream",
     "text": [
      "['naveen', 'papi', 'ram', 'karthik', 'samia', 'surya', 'vandana', 'anushka']\n"
     ]
    }
   ],
   "source": [
    "bank_customers = ['naveen','papi','ram','karthik','samia','surya','vandana','anushka']\n",
    "print(bank_customers)"
   ]
  },
  {
   "cell_type": "code",
   "execution_count": null,
   "metadata": {},
   "outputs": [],
   "source": [
    "#req:to greet the customers on a new year.\n",
    "wish you a very happy new year"
   ]
  },
  {
   "cell_type": "code",
   "execution_count": 2,
   "metadata": {},
   "outputs": [
    {
     "name": "stdout",
     "output_type": "stream",
     "text": [
      "wish you a very happy new year,naveen\n"
     ]
    }
   ],
   "source": [
    "print(f\"wish you a very happy new year,{bank_customers[0]}\")"
   ]
  },
  {
   "cell_type": "code",
   "execution_count": 3,
   "metadata": {},
   "outputs": [
    {
     "name": "stdout",
     "output_type": "stream",
     "text": [
      "wish you a very happy new year,papi\n"
     ]
    }
   ],
   "source": [
    "print(f\"wish you a very happy new year,{bank_customers[1]}\")"
   ]
  },
  {
   "cell_type": "code",
   "execution_count": 4,
   "metadata": {},
   "outputs": [
    {
     "name": "stdout",
     "output_type": "stream",
     "text": [
      "wish you a very happy new year,naveen\n",
      "wish you a very happy new year,papi\n",
      "wish you a very happy new year,ram\n",
      "wish you a very happy new year,karthik\n",
      "wish you a very happy new year,samia\n",
      "wish you a very happy new year,surya\n",
      "wish you a very happy new year,vandana\n",
      "wish you a very happy new year,anushka\n"
     ]
    }
   ],
   "source": [
    "for customer in bank_customers:\n",
    "    print(f\"wish you a very happy new year,{customer}\")"
   ]
  },
  {
   "cell_type": "code",
   "execution_count": null,
   "metadata": {},
   "outputs": [],
   "source": [
    "#general syntax of a for loop:"
   ]
  },
  {
   "cell_type": "code",
   "execution_count": null,
   "metadata": {},
   "outputs": [],
   "source": [
    "for tempvar in mainvar:       #indentation\n",
    "    print(tempvar)"
   ]
  },
  {
   "cell_type": "code",
   "execution_count": 5,
   "metadata": {},
   "outputs": [
    {
     "name": "stdout",
     "output_type": "stream",
     "text": [
      "wish you a very happy new year,naveen\n",
      "wish you a very happy new year,papi\n",
      "wish you a very happy new year,ram\n",
      "wish you a very happy new year,karthik\n",
      "wish you a very happy new year,samia\n",
      "wish you a very happy new year,surya\n",
      "wish you a very happy new year,vandana\n",
      "wish you a very happy new year,anushka\n"
     ]
    }
   ],
   "source": [
    "for x in bank_customers:\n",
    "    print(f\"wish you a very happy new year,{x}\")"
   ]
  },
  {
   "cell_type": "code",
   "execution_count": 6,
   "metadata": {},
   "outputs": [],
   "source": [
    "students = ['suman','keerthi','yasmeen','ravi','john','praveen','sajid']"
   ]
  },
  {
   "cell_type": "code",
   "execution_count": 7,
   "metadata": {},
   "outputs": [],
   "source": [
    "#req:to appreciate the students."
   ]
  },
  {
   "cell_type": "code",
   "execution_count": 10,
   "metadata": {},
   "outputs": [
    {
     "name": "stdout",
     "output_type": "stream",
     "text": [
      "keep up the good work suman\n",
      "keep up the good work keerthi\n",
      "keep up the good work yasmeen\n",
      "keep up the good work ravi\n",
      "keep up the good work john\n",
      "keep up the good work praveen\n",
      "keep up the good work sajid\n"
     ]
    }
   ],
   "source": [
    "for x in students:\n",
    "    print(f\"keep up the good work {x}\")"
   ]
  },
  {
   "cell_type": "code",
   "execution_count": 14,
   "metadata": {},
   "outputs": [
    {
     "name": "stdout",
     "output_type": "stream",
     "text": [
      "keep up the good work, Suman\n",
      "keep up the good work, Keerthi\n",
      "keep up the good work, Yasmeen\n",
      "keep up the good work, Ravi\n",
      "keep up the good work, John\n",
      "keep up the good work, Praveen\n",
      "keep up the good work, Sajid\n"
     ]
    }
   ],
   "source": [
    "for x in students:\n",
    "    print(f\"keep up the good work, {x.title()}\")"
   ]
  },
  {
   "cell_type": "code",
   "execution_count": 15,
   "metadata": {},
   "outputs": [],
   "source": [
    "#enhancement of the code"
   ]
  },
  {
   "cell_type": "code",
   "execution_count": 16,
   "metadata": {},
   "outputs": [
    {
     "name": "stdout",
     "output_type": "stream",
     "text": [
      "keep up the good work, Suman\n",
      "I will be looking forward to receive all your practise files of today,Suman \n",
      "keep up the good work, Keerthi\n",
      "I will be looking forward to receive all your practise files of today,Keerthi \n",
      "keep up the good work, Yasmeen\n",
      "I will be looking forward to receive all your practise files of today,Yasmeen \n",
      "keep up the good work, Ravi\n",
      "I will be looking forward to receive all your practise files of today,Ravi \n",
      "keep up the good work, John\n",
      "I will be looking forward to receive all your practise files of today,John \n",
      "keep up the good work, Praveen\n",
      "I will be looking forward to receive all your practise files of today,Praveen \n",
      "keep up the good work, Sajid\n",
      "I will be looking forward to receive all your practise files of today,Sajid \n"
     ]
    }
   ],
   "source": [
    "for x in students:\n",
    "    print(f\"keep up the good work, {x.title()}\")\n",
    "    print(f\"I will be looking forward to receive all your practise files of today,{x.title()} \")"
   ]
  },
  {
   "cell_type": "code",
   "execution_count": 17,
   "metadata": {},
   "outputs": [
    {
     "name": "stdout",
     "output_type": "stream",
     "text": [
      "keep up the good work, Suman\n",
      "I will be looking forward to receive all your practise files of today,Suman.\n",
      " \n",
      "keep up the good work, Keerthi\n",
      "I will be looking forward to receive all your practise files of today,Keerthi.\n",
      " \n",
      "keep up the good work, Yasmeen\n",
      "I will be looking forward to receive all your practise files of today,Yasmeen.\n",
      " \n",
      "keep up the good work, Ravi\n",
      "I will be looking forward to receive all your practise files of today,Ravi.\n",
      " \n",
      "keep up the good work, John\n",
      "I will be looking forward to receive all your practise files of today,John.\n",
      " \n",
      "keep up the good work, Praveen\n",
      "I will be looking forward to receive all your practise files of today,Praveen.\n",
      " \n",
      "keep up the good work, Sajid\n",
      "I will be looking forward to receive all your practise files of today,Sajid.\n",
      " \n"
     ]
    }
   ],
   "source": [
    "for x in students:\n",
    "    print(f\"keep up the good work, {x.title()}\")\n",
    "    print(f\"I will be looking forward to receive all your practise files of today,{x.title()}.\\n \")"
   ]
  },
  {
   "cell_type": "code",
   "execution_count": 58,
   "metadata": {},
   "outputs": [
    {
     "name": "stdout",
     "output_type": "stream",
     "text": [
      "keep up the good work, Suman.\n",
      "\n",
      "I will be looking forward to receive all your practise files of today,Suman.\n",
      " \n",
      "keep up the good work, Keerthi.\n",
      "\n",
      "I will be looking forward to receive all your practise files of today,Keerthi.\n",
      " \n",
      "keep up the good work, Yasmeen.\n",
      "\n",
      "I will be looking forward to receive all your practise files of today,Yasmeen.\n",
      " \n",
      "keep up the good work, Ravi.\n",
      "\n",
      "I will be looking forward to receive all your practise files of today,Ravi.\n",
      " \n",
      "keep up the good work, John.\n",
      "\n",
      "I will be looking forward to receive all your practise files of today,John.\n",
      " \n",
      "keep up the good work, Praveen.\n",
      "\n",
      "I will be looking forward to receive all your practise files of today,Praveen.\n",
      " \n",
      "keep up the good work, Sajid.\n",
      "\n",
      "I will be looking forward to receive all your practise files of today,Sajid.\n",
      " \n",
      "Thank you all for showing the interest in learning python\n"
     ]
    }
   ],
   "source": [
    "for x in students:\n",
    "     print(f\"keep up the good work, {x.title()}.\\n\")\n",
    "     print(f\"I will be looking forward to receive all your practise files of today,{x.title()}.\\n \")\n",
    "\n",
    "\n",
    "print('Thank you all for showing the interest in learning python')"
   ]
  },
  {
   "cell_type": "code",
   "execution_count": null,
   "metadata": {},
   "outputs": [],
   "source": [
    "Introduction to zen of python:"
   ]
  },
  {
   "cell_type": "code",
   "execution_count": 64,
   "metadata": {},
   "outputs": [
    {
     "name": "stdout",
     "output_type": "stream",
     "text": [
      "The Zen of Python, by Tim Peters\n",
      "\n",
      "Beautiful is better than ugly.\n",
      "Explicit is better than implicit.\n",
      "Simple is better than complex.\n",
      "Complex is better than complicated.\n",
      "Flat is better than nested.\n",
      "Sparse is better than dense.\n",
      "Readability counts.\n",
      "Special cases aren't special enough to break the rules.\n",
      "Although practicality beats purity.\n",
      "Errors should never pass silently.\n",
      "Unless explicitly silenced.\n",
      "In the face of ambiguity, refuse the temptation to guess.\n",
      "There should be one-- and preferably only one --obvious way to do it.\n",
      "Although that way may not be obvious at first unless you're Dutch.\n",
      "Now is better than never.\n",
      "Although never is often better than *right* now.\n",
      "If the implementation is hard to explain, it's a bad idea.\n",
      "If the implementation is easy to explain, it may be a good idea.\n",
      "Namespaces are one honking great idea -- let's do more of those!\n"
     ]
    }
   ],
   "source": [
    "import this"
   ]
  },
  {
   "cell_type": "code",
   "execution_count": null,
   "metadata": {},
   "outputs": [],
   "source": [
    "#Introduction to organising the lists:"
   ]
  },
  {
   "cell_type": "code",
   "execution_count": 65,
   "metadata": {},
   "outputs": [
    {
     "name": "stdout",
     "output_type": "stream",
     "text": [
      "['suman', 'keerthi', 'yasmeen', 'ravi', 'john', 'praveen', 'sajid']\n"
     ]
    }
   ],
   "source": [
    "print(students)"
   ]
  },
  {
   "cell_type": "code",
   "execution_count": null,
   "metadata": {},
   "outputs": [],
   "source": [
    "#2 possible ways to do this\n",
    "1.temp way\n",
    "2.per way"
   ]
  },
  {
   "cell_type": "code",
   "execution_count": 66,
   "metadata": {},
   "outputs": [
    {
     "name": "stdout",
     "output_type": "stream",
     "text": [
      "['john', 'keerthi', 'praveen', 'ravi', 'sajid', 'suman', 'yasmeen']\n"
     ]
    }
   ],
   "source": [
    "print(sorted(students))"
   ]
  },
  {
   "cell_type": "code",
   "execution_count": 67,
   "metadata": {},
   "outputs": [
    {
     "name": "stdout",
     "output_type": "stream",
     "text": [
      "['suman', 'keerthi', 'yasmeen', 'ravi', 'john', 'praveen', 'sajid']\n"
     ]
    }
   ],
   "source": [
    "print(students)"
   ]
  },
  {
   "cell_type": "code",
   "execution_count": 68,
   "metadata": {},
   "outputs": [
    {
     "name": "stdout",
     "output_type": "stream",
     "text": [
      "['john', 'keerthi', 'praveen', 'ravi', 'sajid', 'suman', 'yasmeen']\n"
     ]
    }
   ],
   "source": [
    "students.sort()\n",
    "print(students)"
   ]
  },
  {
   "cell_type": "code",
   "execution_count": 69,
   "metadata": {},
   "outputs": [
    {
     "name": "stdout",
     "output_type": "stream",
     "text": [
      "['john', 'keerthi', 'praveen', 'ravi', 'sajid', 'suman', 'yasmeen']\n"
     ]
    }
   ],
   "source": [
    "print(students)"
   ]
  },
  {
   "cell_type": "code",
   "execution_count": null,
   "metadata": {},
   "outputs": [],
   "source": []
  }
 ],
 "metadata": {
  "kernelspec": {
   "display_name": "Python 3",
   "language": "python",
   "name": "python3"
  },
  "language_info": {
   "codemirror_mode": {
    "name": "ipython",
    "version": 3
   },
   "file_extension": ".py",
   "mimetype": "text/x-python",
   "name": "python",
   "nbconvert_exporter": "python",
   "pygments_lexer": "ipython3",
   "version": "3.7.4"
  }
 },
 "nbformat": 4,
 "nbformat_minor": 2
}
